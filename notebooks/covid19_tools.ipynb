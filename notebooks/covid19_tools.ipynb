{
 "cells": [
  {
   "cell_type": "markdown",
   "metadata": {},
   "source": [
    "## Tools used for the covid-19 analysis"
   ]
  },
  {
   "cell_type": "code",
   "execution_count": 1,
   "metadata": {},
   "outputs": [],
   "source": [
    "def getCountryData(country):\n",
    "    \"\"\"\n",
    "    Structure of return : \n",
    "    \n",
    "    countryDict = {\n",
    "        'confirmed' = {\n",
    "            datetime(...): nb1,\n",
    "            datatime(...): nb2\n",
    "        },\n",
    "        'death' = {\n",
    "            datetime(...): nb1,\n",
    "            datatime(...): nb2\n",
    "        },\n",
    "        'recovered' = {\n",
    "            datetime(...): nb1,\n",
    "            datatime(...): nb2\n",
    "        },\n",
    "    }\n",
    "    \"\"\"\n",
    "    countryDict = {}\n",
    "    for d_name, d_data in datasets.items():\n",
    "        countryDict[d_name] = {}\n",
    "        country_data = d_data.loc[d_data['Country/Region'] == country]\n",
    "        for column in country_data.columns[4:]:\n",
    "            countryDict[d_name][datetime.strptime(column, '%m/%d/%y')] = country_data[column].values[0]\n",
    "    return countryDict"
   ]
  },
  {
   "cell_type": "code",
   "execution_count": null,
   "metadata": {},
   "outputs": [],
   "source": []
  }
 ],
 "metadata": {
  "kernelspec": {
   "display_name": "Python 3",
   "language": "python",
   "name": "python3"
  },
  "language_info": {
   "codemirror_mode": {
    "name": "ipython",
    "version": 3
   },
   "file_extension": ".py",
   "mimetype": "text/x-python",
   "name": "python",
   "nbconvert_exporter": "python",
   "pygments_lexer": "ipython3",
   "version": "3.7.3"
  }
 },
 "nbformat": 4,
 "nbformat_minor": 2
}
